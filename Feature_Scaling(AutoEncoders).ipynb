{
  "nbformat": 4,
  "nbformat_minor": 0,
  "metadata": {
    "colab": {
      "provenance": []
    },
    "kernelspec": {
      "name": "python3",
      "display_name": "Python 3"
    },
    "language_info": {
      "name": "python"
    }
  },
  "cells": [
    {
      "cell_type": "code",
      "execution_count": 3,
      "metadata": {
        "colab": {
          "base_uri": "https://localhost:8080/"
        },
        "id": "98PzuMInVbdv",
        "outputId": "f16c56db-0888-4c67-932a-063a79d52552"
      },
      "outputs": [
        {
          "output_type": "stream",
          "name": "stdout",
          "text": [
            "Original Data: \n",
            "     Name  gender City\n",
            "0    John    Male  Vzg\n",
            "1  Geetha  Female  Vzm\n",
            "2   Varun    Male   Sc\n",
            "3  Sindhu  Female  VBL\n",
            "\n",
            "Encoded Data: \n",
            "     Name  gender_encoded  city_encoded\n",
            "0    John               1             2\n",
            "1  Geetha               0             3\n",
            "2   Varun               1             0\n",
            "3  Sindhu               0             1\n"
          ]
        }
      ],
      "source": [
        "import pandas as pd\n",
        "from sklearn.preprocessing import LabelEncoder\n",
        "\n",
        "data={\n",
        "    'Name':['John','Geetha','Varun','Sindhu'],\n",
        "    'gender':[\"Male\",\"Female\",\"Male\",\"Female\"],\n",
        "    'City':['Vzg','Vzm','Sc','VBL']\n",
        "}\n",
        "\n",
        "df=pd.DataFrame(data)\n",
        "\n",
        "print(\"Original Data: \")\n",
        "print(df)\n",
        "\n",
        "label_encoder = LabelEncoder()\n",
        "\n",
        "df['gender_encoded'] = label_encoder.fit_transform(df['gender'])\n",
        "df['city_encoded'] = label_encoder.fit_transform(df['City'])\n",
        "\n",
        "print(\"\\nEncoded Data: \")\n",
        "print(df[['Name','gender_encoded','city_encoded']])"
      ]
    },
    {
      "cell_type": "code",
      "source": [
        "import pandas as pd\n",
        "from sklearn.preprocessing import OneHotEncoder\n",
        "\n",
        "Data={\n",
        "    'Name':['John','Geetha','Varun','Sindhu'],\n",
        "    'gender':[\"Male\",\"Female\",\"Male\",\"Female\"],\n",
        "    'City':['Vzg','Vzm','Sc','VBL']\n",
        "}\n",
        "\n",
        "df=pd.DataFrame(Data)\n",
        "\n",
        "print(\"Original Data: \")\n",
        "print(df)\n",
        "\n",
        "one_hot_encoder = OneHotEncoder(sparse_output=False)\n",
        "\n",
        "columns_to_encode=['gender','City']\n",
        "encoded_data = one_hot_encoder.fit_transform(df[columns_to_encode])\n",
        "\n",
        "encoded_columns=one_hot_encoder.get_feature_names_out(columns_to_encode)\n",
        "\n",
        "encoded_df = pd.DataFrame(encoded_data, columns=encoded_columns)\n",
        "\n",
        "print(\"\\nEncoded Data: \")\n",
        "print(encoded_df)"
      ],
      "metadata": {
        "colab": {
          "base_uri": "https://localhost:8080/"
        },
        "id": "5p1S_75ObuVW",
        "outputId": "0c592cbd-9712-4bf2-95e4-e7d71f1caa04"
      },
      "execution_count": 8,
      "outputs": [
        {
          "output_type": "stream",
          "name": "stdout",
          "text": [
            "Original Data: \n",
            "     Name  gender City\n",
            "0    John    Male  Vzg\n",
            "1  Geetha  Female  Vzm\n",
            "2   Varun    Male   Sc\n",
            "3  Sindhu  Female  VBL\n",
            "\n",
            "Encoded Data: \n",
            "   gender_Female  gender_Male  City_Sc  City_VBL  City_Vzg  City_Vzm\n",
            "0            0.0          1.0      0.0       0.0       1.0       0.0\n",
            "1            1.0          0.0      0.0       0.0       0.0       1.0\n",
            "2            0.0          1.0      1.0       0.0       0.0       0.0\n",
            "3            1.0          0.0      0.0       1.0       0.0       0.0\n"
          ]
        }
      ]
    },
    {
      "cell_type": "code",
      "source": [
        "import pandas as pd\n",
        "from sklearn.preprocessing import OneHotEncoder\n",
        "\n",
        "Data={\n",
        "    'Name':['John','Geetha','Varun','Sindhu'],\n",
        "    'gender':[\"Male\",\"Female\",\"Male\",\"Female\"],\n",
        "    'City':['Vzg','Vzm','Sc','VBL']\n",
        "}\n",
        "\n",
        "df=pd.DataFrame(Data)\n",
        "\n",
        "print(\"Original Data: \")\n",
        "print(df)\n",
        "\n",
        "one_hot_encoder = OneHotEncoder(sparse_output=False)\n",
        "\n",
        "columns_to_encode=['gender','City']\n",
        "encoded_data = one_hot_encoder.fit_transform(df[columns_to_encode])\n",
        "\n",
        "encoded_columns=one_hot_encoder.get_feature_names_out(columns_to_encode)\n",
        "\n",
        "encoded_df = pd.DataFrame(encoded_data, columns=one_hot_encoder.get_feature_names_out(columns_to_encode))\n",
        "\n",
        "print(\"\\nEncoded Data: \")\n",
        "print(encoded_df)"
      ],
      "metadata": {
        "colab": {
          "base_uri": "https://localhost:8080/"
        },
        "id": "EYolwEzndMpt",
        "outputId": "d77b79ce-8bd3-45d3-8c24-5ba7e5c651b0"
      },
      "execution_count": 9,
      "outputs": [
        {
          "output_type": "stream",
          "name": "stdout",
          "text": [
            "Original Data: \n",
            "     Name  gender City\n",
            "0    John    Male  Vzg\n",
            "1  Geetha  Female  Vzm\n",
            "2   Varun    Male   Sc\n",
            "3  Sindhu  Female  VBL\n",
            "\n",
            "Encoded Data: \n",
            "   gender_Female  gender_Male  City_Sc  City_VBL  City_Vzg  City_Vzm\n",
            "0            0.0          1.0      0.0       0.0       1.0       0.0\n",
            "1            1.0          0.0      0.0       0.0       0.0       1.0\n",
            "2            0.0          1.0      1.0       0.0       0.0       0.0\n",
            "3            1.0          0.0      0.0       1.0       0.0       0.0\n"
          ]
        }
      ]
    },
    {
      "cell_type": "code",
      "source": [],
      "metadata": {
        "id": "azpRxJmSfuYY"
      },
      "execution_count": null,
      "outputs": []
    }
  ]
}